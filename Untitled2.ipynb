{
  "nbformat": 4,
  "nbformat_minor": 0,
  "metadata": {
    "colab": {
      "name": "Untitled2.ipynb",
      "provenance": [],
      "authorship_tag": "ABX9TyOkI0x2jyuKyyUqMltsLMuZ",
      "include_colab_link": true
    },
    "kernelspec": {
      "name": "python3",
      "display_name": "Python 3"
    },
    "language_info": {
      "name": "python"
    }
  },
  "cells": [
    {
      "cell_type": "markdown",
      "metadata": {
        "id": "view-in-github",
        "colab_type": "text"
      },
      "source": [
        "<a href=\"https://colab.research.google.com/github/Thanh097698/colab/blob/main/Untitled2.ipynb\" target=\"_parent\"><img src=\"https://colab.research.google.com/assets/colab-badge.svg\" alt=\"Open In Colab\"/></a>"
      ]
    },
    {
      "cell_type": "code",
      "execution_count": null,
      "metadata": {
        "id": "SCvCjL-Dg8sX"
      },
      "outputs": [],
      "source": [
        "import re\n",
        "def fun(s) :\n",
        "  pattern = re.compile(r\"^([a-zA-Z0-9\\-_]+)\\@(a-zA-Z0-9]+)\\.([a-zA-Z]{,3})&\")\n",
        "  x = bool(pattern.match(s))\n",
        "  if x :\n",
        "    return True\n",
        "  else :\n",
        "    return False\n",
        "def filter_mail(emails) :\n",
        "  return list(filter(fun, emails))\n",
        "if __name__ == '__main__':\n",
        "    n = int(input())\n",
        "    emails = []\n",
        "    for _ in range(n):\n",
        "        emails.append(input())\n",
        "\n",
        "filtered_emails = filter_mail(emails)\n",
        "filtered_emails.sort()\n",
        "print(filtered_emails)"
      ]
    }
  ]
}