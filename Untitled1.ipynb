{
  "nbformat": 4,
  "nbformat_minor": 0,
  "metadata": {
    "colab": {
      "name": "Untitled1.ipynb",
      "provenance": [],
      "authorship_tag": "ABX9TyPLQSno8Xot1ss5H470IAf+",
      "include_colab_link": true
    },
    "kernelspec": {
      "name": "python3",
      "display_name": "Python 3"
    },
    "language_info": {
      "name": "python"
    }
  },
  "cells": [
    {
      "cell_type": "markdown",
      "metadata": {
        "id": "view-in-github",
        "colab_type": "text"
      },
      "source": [
        "<a href=\"https://colab.research.google.com/github/Thanh097698/colab/blob/main/Untitled1.ipynb\" target=\"_parent\"><img src=\"https://colab.research.google.com/assets/colab-badge.svg\" alt=\"Open In Colab\"/></a>"
      ]
    },
    {
      "cell_type": "code",
      "execution_count": null,
      "metadata": {
        "id": "6pVi02Y26nzR"
      },
      "outputs": [],
      "source": [
        "arr = []\n",
        "name2 = []\n",
        "score1 = set()\n",
        "for i in range(int(input())) :\n",
        "  name = input()\n",
        "  score = float(input())\n",
        "  arr.append([name, score])\n",
        "  score1.add(score)\n",
        "sortscore2 = sorted(score1)[1]\n",
        "for name, score in arr :\n",
        "  if score == sortscore2 :\n",
        "   name2.append(name)\n",
        "for i in sorted(name2) :\n",
        "  print(i, end = \"\\n\")"
      ]
    }
  ]
}